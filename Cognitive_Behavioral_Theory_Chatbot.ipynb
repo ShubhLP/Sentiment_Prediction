{
 "cells": [
  {
   "cell_type": "code",
   "execution_count": 1,
   "id": "3b176675-68f3-484b-8699-a5fc404b8de3",
   "metadata": {},
   "outputs": [],
   "source": [
    "import numpy as np\n",
    "import pandas as pd\n",
    "import re\n",
    "from sklearn.model_selection import train_test_split\n",
    "from sklearn.feature_extraction.text import TfidfVectorizer\n",
    "import nltk\n",
    "from nltk.corpus import stopwords\n",
    "from nltk.stem import WordNetLemmatizer\n",
    "from nltk.tokenize import word_tokenize\n",
    "\n",
    "import kagglehub"
   ]
  },
  {
   "cell_type": "code",
   "execution_count": 2,
   "id": "0ad72556-5037-4cfb-95c7-48bc3b4878d2",
   "metadata": {},
   "outputs": [
    {
     "name": "stderr",
     "output_type": "stream",
     "text": [
      "[nltk_data] Downloading package stopwords to\n",
      "[nltk_data]     /Users/shubham/nltk_data...\n",
      "[nltk_data]   Package stopwords is already up-to-date!\n",
      "[nltk_data] Downloading package punkt to /Users/shubham/nltk_data...\n",
      "[nltk_data]   Package punkt is already up-to-date!\n",
      "[nltk_data] Downloading package wordnet to /Users/shubham/nltk_data...\n",
      "[nltk_data]   Package wordnet is already up-to-date!\n"
     ]
    },
    {
     "data": {
      "text/plain": [
       "True"
      ]
     },
     "execution_count": 2,
     "metadata": {},
     "output_type": "execute_result"
    }
   ],
   "source": [
    "nltk.download('stopwords')\n",
    "nltk.download('punkt')\n",
    "nltk.download('wordnet')"
   ]
  },
  {
   "cell_type": "code",
   "execution_count": 3,
   "id": "d80abefc-b47f-4981-bb65-229e52a684a2",
   "metadata": {},
   "outputs": [
    {
     "data": {
      "text/html": [
       "<div>\n",
       "<style scoped>\n",
       "    .dataframe tbody tr th:only-of-type {\n",
       "        vertical-align: middle;\n",
       "    }\n",
       "\n",
       "    .dataframe tbody tr th {\n",
       "        vertical-align: top;\n",
       "    }\n",
       "\n",
       "    .dataframe thead th {\n",
       "        text-align: right;\n",
       "    }\n",
       "</style>\n",
       "<table border=\"1\" class=\"dataframe\">\n",
       "  <thead>\n",
       "    <tr style=\"text-align: right;\">\n",
       "      <th></th>\n",
       "      <th>Context</th>\n",
       "      <th>Response</th>\n",
       "    </tr>\n",
       "  </thead>\n",
       "  <tbody>\n",
       "    <tr>\n",
       "      <th>0</th>\n",
       "      <td>I'm going through some things with my feelings...</td>\n",
       "      <td>If everyone thinks you're worthless, then mayb...</td>\n",
       "    </tr>\n",
       "    <tr>\n",
       "      <th>1</th>\n",
       "      <td>I'm going through some things with my feelings...</td>\n",
       "      <td>Hello, and thank you for your question and see...</td>\n",
       "    </tr>\n",
       "    <tr>\n",
       "      <th>2</th>\n",
       "      <td>I'm going through some things with my feelings...</td>\n",
       "      <td>First thing I'd suggest is getting the sleep y...</td>\n",
       "    </tr>\n",
       "    <tr>\n",
       "      <th>3</th>\n",
       "      <td>I'm going through some things with my feelings...</td>\n",
       "      <td>Therapy is essential for those that are feelin...</td>\n",
       "    </tr>\n",
       "    <tr>\n",
       "      <th>4</th>\n",
       "      <td>I'm going through some things with my feelings...</td>\n",
       "      <td>I first want to let you know that you are not ...</td>\n",
       "    </tr>\n",
       "  </tbody>\n",
       "</table>\n",
       "</div>"
      ],
      "text/plain": [
       "                                             Context  \\\n",
       "0  I'm going through some things with my feelings...   \n",
       "1  I'm going through some things with my feelings...   \n",
       "2  I'm going through some things with my feelings...   \n",
       "3  I'm going through some things with my feelings...   \n",
       "4  I'm going through some things with my feelings...   \n",
       "\n",
       "                                            Response  \n",
       "0  If everyone thinks you're worthless, then mayb...  \n",
       "1  Hello, and thank you for your question and see...  \n",
       "2  First thing I'd suggest is getting the sleep y...  \n",
       "3  Therapy is essential for those that are feelin...  \n",
       "4  I first want to let you know that you are not ...  "
      ]
     },
     "execution_count": 3,
     "metadata": {},
     "output_type": "execute_result"
    }
   ],
   "source": [
    "lemmatizer = WordNetLemmatizer()\n",
    "\n",
    "df = pd.read_csv('train.csv')\n",
    "\n",
    "df.head()\n",
    "\n",
    "# import kagglehub\n",
    "\n",
    "# # Download latest version\n",
    "# path = kagglehub.dataset_download(\"thedevastator/nlp-mental-health-conversations\")\n",
    "\n",
    "# print(\"Path to dataset files:\", path)"
   ]
  },
  {
   "cell_type": "code",
   "execution_count": 4,
   "id": "a512183d-a8d6-4d44-ac8d-e6e521cd57b2",
   "metadata": {},
   "outputs": [],
   "source": [
    "def preprocess_text(text):\n",
    "    if isinstance(text, str):\n",
    "        text = text.lower()\n",
    "        text = re.sub(r\"http\\S+ | www\\S+ | https\\S+ | @\\S+ | #\\S+\", '', text, flags=re.MULTILINE) # reomove URLs, hashtags, mentions\n",
    "    \n",
    "        tokens = word_tokenize(text)\n",
    "    \n",
    "        stop_words = set(stopwords.words('english'))\n",
    "        tokens = [word for word in tokens if word not in stop_words]\n",
    "    \n",
    "        return ' '.join(tokens)\n",
    "    else:\n",
    "        return \"\""
   ]
  },
  {
   "cell_type": "code",
   "execution_count": 5,
   "id": "cb205e5c-66d3-456c-8ec9-a00e11a59905",
   "metadata": {},
   "outputs": [
    {
     "data": {
      "text/html": [
       "<div>\n",
       "<style scoped>\n",
       "    .dataframe tbody tr th:only-of-type {\n",
       "        vertical-align: middle;\n",
       "    }\n",
       "\n",
       "    .dataframe tbody tr th {\n",
       "        vertical-align: top;\n",
       "    }\n",
       "\n",
       "    .dataframe thead th {\n",
       "        text-align: right;\n",
       "    }\n",
       "</style>\n",
       "<table border=\"1\" class=\"dataframe\">\n",
       "  <thead>\n",
       "    <tr style=\"text-align: right;\">\n",
       "      <th></th>\n",
       "      <th>Context</th>\n",
       "      <th>cleaned_context</th>\n",
       "      <th>Response</th>\n",
       "      <th>cleaned_response</th>\n",
       "    </tr>\n",
       "  </thead>\n",
       "  <tbody>\n",
       "    <tr>\n",
       "      <th>0</th>\n",
       "      <td>I'm going through some things with my feelings...</td>\n",
       "      <td>'m going things feelings . barely sleep nothin...</td>\n",
       "      <td>If everyone thinks you're worthless, then mayb...</td>\n",
       "      <td>everyone thinks 're worthless , maybe need fin...</td>\n",
       "    </tr>\n",
       "    <tr>\n",
       "      <th>1</th>\n",
       "      <td>I'm going through some things with my feelings...</td>\n",
       "      <td>'m going things feelings . barely sleep nothin...</td>\n",
       "      <td>Hello, and thank you for your question and see...</td>\n",
       "      <td>hello , thank question seeking advice . feelin...</td>\n",
       "    </tr>\n",
       "    <tr>\n",
       "      <th>2</th>\n",
       "      <td>I'm going through some things with my feelings...</td>\n",
       "      <td>'m going things feelings . barely sleep nothin...</td>\n",
       "      <td>First thing I'd suggest is getting the sleep y...</td>\n",
       "      <td>first thing 'd suggest getting sleep need impa...</td>\n",
       "    </tr>\n",
       "    <tr>\n",
       "      <th>3</th>\n",
       "      <td>I'm going through some things with my feelings...</td>\n",
       "      <td>'m going things feelings . barely sleep nothin...</td>\n",
       "      <td>Therapy is essential for those that are feelin...</td>\n",
       "      <td>therapy essential feeling depressed worthless ...</td>\n",
       "    </tr>\n",
       "    <tr>\n",
       "      <th>4</th>\n",
       "      <td>I'm going through some things with my feelings...</td>\n",
       "      <td>'m going things feelings . barely sleep nothin...</td>\n",
       "      <td>I first want to let you know that you are not ...</td>\n",
       "      <td>first want let know alone feelings always some...</td>\n",
       "    </tr>\n",
       "  </tbody>\n",
       "</table>\n",
       "</div>"
      ],
      "text/plain": [
       "                                             Context  \\\n",
       "0  I'm going through some things with my feelings...   \n",
       "1  I'm going through some things with my feelings...   \n",
       "2  I'm going through some things with my feelings...   \n",
       "3  I'm going through some things with my feelings...   \n",
       "4  I'm going through some things with my feelings...   \n",
       "\n",
       "                                     cleaned_context  \\\n",
       "0  'm going things feelings . barely sleep nothin...   \n",
       "1  'm going things feelings . barely sleep nothin...   \n",
       "2  'm going things feelings . barely sleep nothin...   \n",
       "3  'm going things feelings . barely sleep nothin...   \n",
       "4  'm going things feelings . barely sleep nothin...   \n",
       "\n",
       "                                            Response  \\\n",
       "0  If everyone thinks you're worthless, then mayb...   \n",
       "1  Hello, and thank you for your question and see...   \n",
       "2  First thing I'd suggest is getting the sleep y...   \n",
       "3  Therapy is essential for those that are feelin...   \n",
       "4  I first want to let you know that you are not ...   \n",
       "\n",
       "                                    cleaned_response  \n",
       "0  everyone thinks 're worthless , maybe need fin...  \n",
       "1  hello , thank question seeking advice . feelin...  \n",
       "2  first thing 'd suggest getting sleep need impa...  \n",
       "3  therapy essential feeling depressed worthless ...  \n",
       "4  first want let know alone feelings always some...  "
      ]
     },
     "execution_count": 5,
     "metadata": {},
     "output_type": "execute_result"
    }
   ],
   "source": [
    "df['cleaned_context'] = df['Context'].apply(preprocess_text)\n",
    "df['cleaned_response'] = df['Response'].apply(preprocess_text)\n",
    "\n",
    "df[['Context', 'cleaned_context', 'Response', 'cleaned_response']].head()"
   ]
  },
  {
   "cell_type": "code",
   "execution_count": 6,
   "id": "e39a30da-4cef-4abc-8012-bca71f59c84e",
   "metadata": {},
   "outputs": [
    {
     "data": {
      "text/plain": [
       "['tfdif_vectorizer.pkl']"
      ]
     },
     "execution_count": 6,
     "metadata": {},
     "output_type": "execute_result"
    }
   ],
   "source": [
    "vectorizer = TfidfVectorizer(max_features = 5000)\n",
    "\n",
    "X_context = vectorizer.fit_transform(df['cleaned_context']).toarray()\n",
    "X_response = vectorizer.fit_transform(df['cleaned_response']).toarray()\n",
    "\n",
    "# save the vectorizer for future use\n",
    "import joblib\n",
    "joblib.dump(vectorizer, 'tfdif_vectorizer.pkl')"
   ]
  },
  {
   "cell_type": "code",
   "execution_count": 7,
   "id": "95dcf263-2327-4129-afb4-e637f195467a",
   "metadata": {},
   "outputs": [],
   "source": [
    "from sklearn.model_selection import train_test_split\n",
    "from sklearn.linear_model import LogisticRegression\n",
    "from sklearn.metrics import accuracy_score, classification_report\n",
    "from vaderSentiment.vaderSentiment import SentimentIntensityAnalyzer"
   ]
  },
  {
   "cell_type": "code",
   "execution_count": 8,
   "id": "03fd58b4-2265-442a-8b9b-3dafb7186a07",
   "metadata": {},
   "outputs": [],
   "source": [
    "# Predict the sentiment/emotion\n",
    "analyzer = SentimentIntensityAnalyzer()\n",
    "\n",
    "def get_sentiment(text):\n",
    "    if text:\n",
    "        sentiment_score = analyzer.polarity_scores(text)\n",
    "        if sentiment_score['compound'] >= 0.05:\n",
    "            return 'positive'\n",
    "        elif sentiment_score['compound'] <= 0.05:\n",
    "            return 'negative'\n",
    "        else:\n",
    "            return 'neutral'"
   ]
  },
  {
   "cell_type": "code",
   "execution_count": 9,
   "id": "82fb9d0e-907c-442f-b8bf-9bd67171bb2b",
   "metadata": {},
   "outputs": [
    {
     "data": {
      "text/html": [
       "<div>\n",
       "<style scoped>\n",
       "    .dataframe tbody tr th:only-of-type {\n",
       "        vertical-align: middle;\n",
       "    }\n",
       "\n",
       "    .dataframe tbody tr th {\n",
       "        vertical-align: top;\n",
       "    }\n",
       "\n",
       "    .dataframe thead th {\n",
       "        text-align: right;\n",
       "    }\n",
       "</style>\n",
       "<table border=\"1\" class=\"dataframe\">\n",
       "  <thead>\n",
       "    <tr style=\"text-align: right;\">\n",
       "      <th></th>\n",
       "      <th>cleaned_context</th>\n",
       "      <th>context_sentiment</th>\n",
       "      <th>cleaned_response</th>\n",
       "      <th>response_sentiment</th>\n",
       "    </tr>\n",
       "  </thead>\n",
       "  <tbody>\n",
       "    <tr>\n",
       "      <th>0</th>\n",
       "      <td>'m going things feelings . barely sleep nothin...</td>\n",
       "      <td>positive</td>\n",
       "      <td>everyone thinks 're worthless , maybe need fin...</td>\n",
       "      <td>positive</td>\n",
       "    </tr>\n",
       "    <tr>\n",
       "      <th>1</th>\n",
       "      <td>'m going things feelings . barely sleep nothin...</td>\n",
       "      <td>positive</td>\n",
       "      <td>hello , thank question seeking advice . feelin...</td>\n",
       "      <td>positive</td>\n",
       "    </tr>\n",
       "    <tr>\n",
       "      <th>2</th>\n",
       "      <td>'m going things feelings . barely sleep nothin...</td>\n",
       "      <td>positive</td>\n",
       "      <td>first thing 'd suggest getting sleep need impa...</td>\n",
       "      <td>positive</td>\n",
       "    </tr>\n",
       "    <tr>\n",
       "      <th>3</th>\n",
       "      <td>'m going things feelings . barely sleep nothin...</td>\n",
       "      <td>positive</td>\n",
       "      <td>therapy essential feeling depressed worthless ...</td>\n",
       "      <td>positive</td>\n",
       "    </tr>\n",
       "    <tr>\n",
       "      <th>4</th>\n",
       "      <td>'m going things feelings . barely sleep nothin...</td>\n",
       "      <td>positive</td>\n",
       "      <td>first want let know alone feelings always some...</td>\n",
       "      <td>positive</td>\n",
       "    </tr>\n",
       "  </tbody>\n",
       "</table>\n",
       "</div>"
      ],
      "text/plain": [
       "                                     cleaned_context context_sentiment  \\\n",
       "0  'm going things feelings . barely sleep nothin...          positive   \n",
       "1  'm going things feelings . barely sleep nothin...          positive   \n",
       "2  'm going things feelings . barely sleep nothin...          positive   \n",
       "3  'm going things feelings . barely sleep nothin...          positive   \n",
       "4  'm going things feelings . barely sleep nothin...          positive   \n",
       "\n",
       "                                    cleaned_response response_sentiment  \n",
       "0  everyone thinks 're worthless , maybe need fin...           positive  \n",
       "1  hello , thank question seeking advice . feelin...           positive  \n",
       "2  first thing 'd suggest getting sleep need impa...           positive  \n",
       "3  therapy essential feeling depressed worthless ...           positive  \n",
       "4  first want let know alone feelings always some...           positive  "
      ]
     },
     "execution_count": 9,
     "metadata": {},
     "output_type": "execute_result"
    }
   ],
   "source": [
    "df['context_sentiment'] = df['cleaned_context'].apply(get_sentiment)\n",
    "df['response_sentiment'] = df['cleaned_response'].apply(get_sentiment)\n",
    "\n",
    "df[['cleaned_context', 'context_sentiment', 'cleaned_response', 'response_sentiment']].head()"
   ]
  },
  {
   "cell_type": "code",
   "execution_count": 10,
   "id": "3a992417-5f83-4618-aaee-bbc51c125059",
   "metadata": {},
   "outputs": [],
   "source": [
    "vectorizer = TfidfVectorizer(max_features = 5000)\n",
    "\n",
    "X = vectorizer.fit_transform(df['cleaned_context'])\n",
    "y = df['context_sentiment'].apply(lambda x: 1 if x == 'positive' else 0)"
   ]
  },
  {
   "cell_type": "code",
   "execution_count": 11,
   "id": "ba1fc641-7df5-4402-982c-1e7610f05d5a",
   "metadata": {},
   "outputs": [],
   "source": [
    "X_train, X_test, y_train, y_test = train_test_split(X, y, test_size = 0.2, random_state = 42)"
   ]
  },
  {
   "cell_type": "code",
   "execution_count": 94,
   "id": "a2671f3c-3030-4cf5-ba82-00261aceec63",
   "metadata": {},
   "outputs": [
    {
     "name": "stdout",
     "output_type": "stream",
     "text": [
      "Accuracy:  0.8065433854907539\n",
      "\n",
      "Classification Report: \n",
      "               precision    recall  f1-score   support\n",
      "\n",
      "           0       0.80      0.99      0.89       516\n",
      "           1       0.72      0.13      0.23        97\n",
      "           2       0.91      0.47      0.62        90\n",
      "\n",
      "    accuracy                           0.81       703\n",
      "   macro avg       0.81      0.53      0.58       703\n",
      "weighted avg       0.80      0.81      0.76       703\n",
      "\n"
     ]
    }
   ],
   "source": [
    "sentiment_model = LogisticRegression(max_iter = 1000)\n",
    "sentiment_model.fit(X_train, y_train)\n",
    "y_pred = sentiment_model.predict(X_test)\n",
    "accuracy = accuracy_score(y_test, y_pred)\n",
    "class_report = classification_report(y_test, y_pred)\n",
    "print('Accuracy: ', accuracy)\n",
    "print('\\nClassification Report: \\n', class_report)"
   ]
  },
  {
   "cell_type": "code",
   "execution_count": 95,
   "id": "88603d02-cb61-4045-8f71-533a0f3e0f1c",
   "metadata": {},
   "outputs": [],
   "source": [
    "vectorizer = TfidfVectorizer(max_features = 5000)\n",
    "\n",
    "X = vectorizer.fit_transform(df['cleaned_response'])\n",
    "y = df['response_sentiment'].apply(lambda x : 1 if x == 'positive' else 0)"
   ]
  },
  {
   "cell_type": "code",
   "execution_count": 96,
   "id": "f187c644-9f36-470c-bfd3-bcaff67273f8",
   "metadata": {},
   "outputs": [],
   "source": [
    "X_train, X_test, y_train, y_test = train_test_split(X, y, test_size = 0.2, random_state = 42)"
   ]
  },
  {
   "cell_type": "code",
   "execution_count": 97,
   "id": "fe7858bf-8255-409a-af30-20e5f011fbbc",
   "metadata": {},
   "outputs": [
    {
     "name": "stdout",
     "output_type": "stream",
     "text": [
      "Accuracy:  0.8406827880512091\n",
      "\n",
      "Classification Report: \n",
      "               precision    recall  f1-score   support\n",
      "\n",
      "           0       0.92      0.23      0.37       142\n",
      "           1       0.84      0.99      0.91       561\n",
      "\n",
      "    accuracy                           0.84       703\n",
      "   macro avg       0.88      0.61      0.64       703\n",
      "weighted avg       0.85      0.84      0.80       703\n",
      "\n"
     ]
    }
   ],
   "source": [
    "sentiment_model = LogisticRegression(max_iter = 1000)\n",
    "sentiment_model.fit(X_train, y_train)\n",
    "y_pred = sentiment_model.predict(X_test)\n",
    "accuracy = accuracy_score(y_test, y_pred)\n",
    "class_report = classification_report(y_test, y_pred)\n",
    "print('Accuracy: ', accuracy)\n",
    "print('\\nClassification Report: \\n', class_report)"
   ]
  },
  {
   "cell_type": "code",
   "execution_count": 99,
   "id": "f299594f-ae38-4142-9b11-c5c13a12a85b",
   "metadata": {},
   "outputs": [
    {
     "data": {
      "text/plain": [
       "['sentiment_model.pkl']"
      ]
     },
     "execution_count": 99,
     "metadata": {},
     "output_type": "execute_result"
    }
   ],
   "source": [
    "joblib.dump(sentiment_model, 'sentiment_model.pkl')"
   ]
  },
  {
   "cell_type": "code",
   "execution_count": 31,
   "id": "6863fd10-08e1-49d4-b303-8240b754b3cc",
   "metadata": {},
   "outputs": [],
   "source": [
    "def get_emotion(text):\n",
    "    sentiment_score = analyzer.polarity_scores(text)\n",
    "    \n",
    "    if sentiment_score['compound'] >= 0.5:\n",
    "        return 'happy'\n",
    "    elif sentiment_score['compound'] <= -0.5:\n",
    "        return 'sad'\n",
    "    else:\n",
    "        return 'neutral'"
   ]
  },
  {
   "cell_type": "code",
   "execution_count": 32,
   "id": "3b162181-4f5a-4fa7-a22b-7637d2ca9320",
   "metadata": {},
   "outputs": [
    {
     "data": {
      "text/html": [
       "<div>\n",
       "<style scoped>\n",
       "    .dataframe tbody tr th:only-of-type {\n",
       "        vertical-align: middle;\n",
       "    }\n",
       "\n",
       "    .dataframe tbody tr th {\n",
       "        vertical-align: top;\n",
       "    }\n",
       "\n",
       "    .dataframe thead th {\n",
       "        text-align: right;\n",
       "    }\n",
       "</style>\n",
       "<table border=\"1\" class=\"dataframe\">\n",
       "  <thead>\n",
       "    <tr style=\"text-align: right;\">\n",
       "      <th></th>\n",
       "      <th>Context</th>\n",
       "      <th>Response</th>\n",
       "      <th>cleaned_context</th>\n",
       "      <th>cleaned_response</th>\n",
       "      <th>context_sentiment</th>\n",
       "      <th>response_sentiment</th>\n",
       "      <th>context_emotion</th>\n",
       "      <th>response_emotion</th>\n",
       "    </tr>\n",
       "  </thead>\n",
       "  <tbody>\n",
       "    <tr>\n",
       "      <th>0</th>\n",
       "      <td>I'm going through some things with my feelings...</td>\n",
       "      <td>If everyone thinks you're worthless, then mayb...</td>\n",
       "      <td>'m going things feelings . barely sleep nothin...</td>\n",
       "      <td>everyone thinks 're worthless , maybe need fin...</td>\n",
       "      <td>positive</td>\n",
       "      <td>positive</td>\n",
       "      <td>happy</td>\n",
       "      <td>neutral</td>\n",
       "    </tr>\n",
       "    <tr>\n",
       "      <th>1</th>\n",
       "      <td>I'm going through some things with my feelings...</td>\n",
       "      <td>Hello, and thank you for your question and see...</td>\n",
       "      <td>'m going things feelings . barely sleep nothin...</td>\n",
       "      <td>hello , thank question seeking advice . feelin...</td>\n",
       "      <td>positive</td>\n",
       "      <td>positive</td>\n",
       "      <td>happy</td>\n",
       "      <td>happy</td>\n",
       "    </tr>\n",
       "    <tr>\n",
       "      <th>2</th>\n",
       "      <td>I'm going through some things with my feelings...</td>\n",
       "      <td>First thing I'd suggest is getting the sleep y...</td>\n",
       "      <td>'m going things feelings . barely sleep nothin...</td>\n",
       "      <td>first thing 'd suggest getting sleep need impa...</td>\n",
       "      <td>positive</td>\n",
       "      <td>positive</td>\n",
       "      <td>happy</td>\n",
       "      <td>happy</td>\n",
       "    </tr>\n",
       "    <tr>\n",
       "      <th>3</th>\n",
       "      <td>I'm going through some things with my feelings...</td>\n",
       "      <td>Therapy is essential for those that are feelin...</td>\n",
       "      <td>'m going things feelings . barely sleep nothin...</td>\n",
       "      <td>therapy essential feeling depressed worthless ...</td>\n",
       "      <td>positive</td>\n",
       "      <td>positive</td>\n",
       "      <td>happy</td>\n",
       "      <td>neutral</td>\n",
       "    </tr>\n",
       "    <tr>\n",
       "      <th>4</th>\n",
       "      <td>I'm going through some things with my feelings...</td>\n",
       "      <td>I first want to let you know that you are not ...</td>\n",
       "      <td>'m going things feelings . barely sleep nothin...</td>\n",
       "      <td>first want let know alone feelings always some...</td>\n",
       "      <td>positive</td>\n",
       "      <td>positive</td>\n",
       "      <td>happy</td>\n",
       "      <td>neutral</td>\n",
       "    </tr>\n",
       "  </tbody>\n",
       "</table>\n",
       "</div>"
      ],
      "text/plain": [
       "                                             Context  \\\n",
       "0  I'm going through some things with my feelings...   \n",
       "1  I'm going through some things with my feelings...   \n",
       "2  I'm going through some things with my feelings...   \n",
       "3  I'm going through some things with my feelings...   \n",
       "4  I'm going through some things with my feelings...   \n",
       "\n",
       "                                            Response  \\\n",
       "0  If everyone thinks you're worthless, then mayb...   \n",
       "1  Hello, and thank you for your question and see...   \n",
       "2  First thing I'd suggest is getting the sleep y...   \n",
       "3  Therapy is essential for those that are feelin...   \n",
       "4  I first want to let you know that you are not ...   \n",
       "\n",
       "                                     cleaned_context  \\\n",
       "0  'm going things feelings . barely sleep nothin...   \n",
       "1  'm going things feelings . barely sleep nothin...   \n",
       "2  'm going things feelings . barely sleep nothin...   \n",
       "3  'm going things feelings . barely sleep nothin...   \n",
       "4  'm going things feelings . barely sleep nothin...   \n",
       "\n",
       "                                    cleaned_response context_sentiment  \\\n",
       "0  everyone thinks 're worthless , maybe need fin...          positive   \n",
       "1  hello , thank question seeking advice . feelin...          positive   \n",
       "2  first thing 'd suggest getting sleep need impa...          positive   \n",
       "3  therapy essential feeling depressed worthless ...          positive   \n",
       "4  first want let know alone feelings always some...          positive   \n",
       "\n",
       "  response_sentiment context_emotion response_emotion  \n",
       "0           positive           happy          neutral  \n",
       "1           positive           happy            happy  \n",
       "2           positive           happy            happy  \n",
       "3           positive           happy          neutral  \n",
       "4           positive           happy          neutral  "
      ]
     },
     "execution_count": 32,
     "metadata": {},
     "output_type": "execute_result"
    }
   ],
   "source": [
    "df['context_emotion'] = df['cleaned_context'].apply(get_emotion)\n",
    "df['response_emotion'] = df['cleaned_response'].apply(get_emotion)\n",
    "df.head()"
   ]
  },
  {
   "cell_type": "code",
   "execution_count": 33,
   "id": "90c2028e-7520-45f7-a519-cd8861d315e0",
   "metadata": {},
   "outputs": [],
   "source": [
    "from sklearn.preprocessing import LabelEncoder"
   ]
  },
  {
   "cell_type": "code",
   "execution_count": 34,
   "id": "dcf39ec6-adf2-4999-af59-711adeaff21d",
   "metadata": {},
   "outputs": [
    {
     "data": {
      "text/html": [
       "<div>\n",
       "<style scoped>\n",
       "    .dataframe tbody tr th:only-of-type {\n",
       "        vertical-align: middle;\n",
       "    }\n",
       "\n",
       "    .dataframe tbody tr th {\n",
       "        vertical-align: top;\n",
       "    }\n",
       "\n",
       "    .dataframe thead th {\n",
       "        text-align: right;\n",
       "    }\n",
       "</style>\n",
       "<table border=\"1\" class=\"dataframe\">\n",
       "  <thead>\n",
       "    <tr style=\"text-align: right;\">\n",
       "      <th></th>\n",
       "      <th>Context</th>\n",
       "      <th>Response</th>\n",
       "      <th>cleaned_context</th>\n",
       "      <th>cleaned_response</th>\n",
       "      <th>context_sentiment</th>\n",
       "      <th>response_sentiment</th>\n",
       "      <th>context_emotion</th>\n",
       "      <th>response_emotion</th>\n",
       "      <th>context_emotion_label</th>\n",
       "      <th>response_emotion_label</th>\n",
       "    </tr>\n",
       "  </thead>\n",
       "  <tbody>\n",
       "    <tr>\n",
       "      <th>0</th>\n",
       "      <td>I'm going through some things with my feelings...</td>\n",
       "      <td>If everyone thinks you're worthless, then mayb...</td>\n",
       "      <td>'m going things feelings . barely sleep nothin...</td>\n",
       "      <td>everyone thinks 're worthless , maybe need fin...</td>\n",
       "      <td>positive</td>\n",
       "      <td>positive</td>\n",
       "      <td>happy</td>\n",
       "      <td>neutral</td>\n",
       "      <td>0</td>\n",
       "      <td>1</td>\n",
       "    </tr>\n",
       "    <tr>\n",
       "      <th>1</th>\n",
       "      <td>I'm going through some things with my feelings...</td>\n",
       "      <td>Hello, and thank you for your question and see...</td>\n",
       "      <td>'m going things feelings . barely sleep nothin...</td>\n",
       "      <td>hello , thank question seeking advice . feelin...</td>\n",
       "      <td>positive</td>\n",
       "      <td>positive</td>\n",
       "      <td>happy</td>\n",
       "      <td>happy</td>\n",
       "      <td>0</td>\n",
       "      <td>0</td>\n",
       "    </tr>\n",
       "    <tr>\n",
       "      <th>2</th>\n",
       "      <td>I'm going through some things with my feelings...</td>\n",
       "      <td>First thing I'd suggest is getting the sleep y...</td>\n",
       "      <td>'m going things feelings . barely sleep nothin...</td>\n",
       "      <td>first thing 'd suggest getting sleep need impa...</td>\n",
       "      <td>positive</td>\n",
       "      <td>positive</td>\n",
       "      <td>happy</td>\n",
       "      <td>happy</td>\n",
       "      <td>0</td>\n",
       "      <td>0</td>\n",
       "    </tr>\n",
       "    <tr>\n",
       "      <th>3</th>\n",
       "      <td>I'm going through some things with my feelings...</td>\n",
       "      <td>Therapy is essential for those that are feelin...</td>\n",
       "      <td>'m going things feelings . barely sleep nothin...</td>\n",
       "      <td>therapy essential feeling depressed worthless ...</td>\n",
       "      <td>positive</td>\n",
       "      <td>positive</td>\n",
       "      <td>happy</td>\n",
       "      <td>neutral</td>\n",
       "      <td>0</td>\n",
       "      <td>1</td>\n",
       "    </tr>\n",
       "    <tr>\n",
       "      <th>4</th>\n",
       "      <td>I'm going through some things with my feelings...</td>\n",
       "      <td>I first want to let you know that you are not ...</td>\n",
       "      <td>'m going things feelings . barely sleep nothin...</td>\n",
       "      <td>first want let know alone feelings always some...</td>\n",
       "      <td>positive</td>\n",
       "      <td>positive</td>\n",
       "      <td>happy</td>\n",
       "      <td>neutral</td>\n",
       "      <td>0</td>\n",
       "      <td>1</td>\n",
       "    </tr>\n",
       "  </tbody>\n",
       "</table>\n",
       "</div>"
      ],
      "text/plain": [
       "                                             Context  \\\n",
       "0  I'm going through some things with my feelings...   \n",
       "1  I'm going through some things with my feelings...   \n",
       "2  I'm going through some things with my feelings...   \n",
       "3  I'm going through some things with my feelings...   \n",
       "4  I'm going through some things with my feelings...   \n",
       "\n",
       "                                            Response  \\\n",
       "0  If everyone thinks you're worthless, then mayb...   \n",
       "1  Hello, and thank you for your question and see...   \n",
       "2  First thing I'd suggest is getting the sleep y...   \n",
       "3  Therapy is essential for those that are feelin...   \n",
       "4  I first want to let you know that you are not ...   \n",
       "\n",
       "                                     cleaned_context  \\\n",
       "0  'm going things feelings . barely sleep nothin...   \n",
       "1  'm going things feelings . barely sleep nothin...   \n",
       "2  'm going things feelings . barely sleep nothin...   \n",
       "3  'm going things feelings . barely sleep nothin...   \n",
       "4  'm going things feelings . barely sleep nothin...   \n",
       "\n",
       "                                    cleaned_response context_sentiment  \\\n",
       "0  everyone thinks 're worthless , maybe need fin...          positive   \n",
       "1  hello , thank question seeking advice . feelin...          positive   \n",
       "2  first thing 'd suggest getting sleep need impa...          positive   \n",
       "3  therapy essential feeling depressed worthless ...          positive   \n",
       "4  first want let know alone feelings always some...          positive   \n",
       "\n",
       "  response_sentiment context_emotion response_emotion  context_emotion_label  \\\n",
       "0           positive           happy          neutral                      0   \n",
       "1           positive           happy            happy                      0   \n",
       "2           positive           happy            happy                      0   \n",
       "3           positive           happy          neutral                      0   \n",
       "4           positive           happy          neutral                      0   \n",
       "\n",
       "   response_emotion_label  \n",
       "0                       1  \n",
       "1                       0  \n",
       "2                       0  \n",
       "3                       1  \n",
       "4                       1  "
      ]
     },
     "execution_count": 34,
     "metadata": {},
     "output_type": "execute_result"
    }
   ],
   "source": [
    "le = LabelEncoder()\n",
    "df['context_emotion_label'] = le.fit_transform(df['context_emotion'])\n",
    "df['response_emotion_label'] = le.fit_transform(df['response_emotion'])\n",
    "\n",
    "df.head()"
   ]
  },
  {
   "cell_type": "code",
   "execution_count": 36,
   "id": "bcc08855-b405-4bc4-9ef6-2f2349442e52",
   "metadata": {},
   "outputs": [],
   "source": [
    "vectorizer = TfidfVectorizer(max_features = 5000)\n",
    "\n",
    "X_context = vectorizer.fit_transform(df['cleaned_context']).toarray()\n",
    "y_context = df['context_emotion_label']\n",
    "\n",
    "X_response = vectorizer.fit_transform(df['cleaned_response']).toarray()\n",
    "y_response = df['response_emotion_label']"
   ]
  },
  {
   "cell_type": "code",
   "execution_count": 37,
   "id": "b59bfbd8-b696-4f78-8164-f51f90364548",
   "metadata": {},
   "outputs": [],
   "source": [
    "X_train, X_test, y_train, y_test = train_test_split(X_context, y_context, test_size=0.2, random_state=42)"
   ]
  },
  {
   "cell_type": "code",
   "execution_count": 92,
   "id": "3857c8fd-0d92-4b3f-be0e-20c0e1915c84",
   "metadata": {},
   "outputs": [
    {
     "name": "stdout",
     "output_type": "stream",
     "text": [
      "Accuracy: 0.7766714082503556\n",
      "\n",
      "Classification Report:\n",
      "               precision    recall  f1-score   support\n",
      "\n",
      "       happy       0.77      1.00      0.87       516\n",
      "     neutral       0.44      0.04      0.08        97\n",
      "         sad       0.96      0.30      0.46        90\n",
      "\n",
      "    accuracy                           0.78       703\n",
      "   macro avg       0.73      0.45      0.47       703\n",
      "weighted avg       0.75      0.78      0.71       703\n",
      "\n"
     ]
    }
   ],
   "source": [
    "emotion_model = LogisticRegression(max_iter=1000, multi_class='ovr')\n",
    "emotion_model.fit(X_train, y_train)\n",
    "\n",
    "y_pred = emotion_model.predict(X_test)\n",
    "accuracy = accuracy_score(y_test, y_pred)\n",
    "class_report = classification_report(y_test, y_pred, target_names=le.classes_)\n",
    "\n",
    "print(\"Accuracy:\", accuracy)\n",
    "print(\"\\nClassification Report:\\n\", class_report)"
   ]
  },
  {
   "cell_type": "code",
   "execution_count": 39,
   "id": "138818c2-fd6a-4c00-9489-f8d5cfbd408f",
   "metadata": {},
   "outputs": [],
   "source": [
    "X_train, X_test, y_train, y_test = train_test_split(X_response, y_response, test_size=0.2, random_state=42)"
   ]
  },
  {
   "cell_type": "code",
   "execution_count": 93,
   "id": "15c71db5-7612-4207-8012-cfaabfe28c41",
   "metadata": {},
   "outputs": [
    {
     "name": "stdout",
     "output_type": "stream",
     "text": [
      "Accuracy: 0.7766714082503556\n",
      "\n",
      "Classification Report:\n",
      "               precision    recall  f1-score   support\n",
      "\n",
      "       happy       0.77      1.00      0.87       516\n",
      "     neutral       0.44      0.04      0.08        97\n",
      "         sad       0.96      0.30      0.46        90\n",
      "\n",
      "    accuracy                           0.78       703\n",
      "   macro avg       0.73      0.45      0.47       703\n",
      "weighted avg       0.75      0.78      0.71       703\n",
      "\n"
     ]
    }
   ],
   "source": [
    "emotion_model = LogisticRegression(max_iter=1000, multi_class='ovr')\n",
    "emotion_model.fit(X_train, y_train)\n",
    "\n",
    "y_pred = emotion_model.predict(X_test)\n",
    "accuracy = accuracy_score(y_test, y_pred)\n",
    "class_report = classification_report(y_test, y_pred, target_names = le.classes_)\n",
    "\n",
    "print(\"Accuracy:\", accuracy)\n",
    "print(\"\\nClassification Report:\\n\", class_report)"
   ]
  },
  {
   "cell_type": "code",
   "execution_count": 100,
   "id": "8c55161f-d9dd-4ac1-badd-aedd6bf7126d",
   "metadata": {},
   "outputs": [
    {
     "data": {
      "text/plain": [
       "['emotion_vectorizer.pkl']"
      ]
     },
     "execution_count": 100,
     "metadata": {},
     "output_type": "execute_result"
    }
   ],
   "source": [
    "joblib.dump(emotion_model, 'emotion_detection_model.pkl')\n",
    "joblib.dump(vectorizer, 'emotion_vectorizer.pkl')"
   ]
  },
  {
   "cell_type": "code",
   "execution_count": 60,
   "id": "6a48dfa3-a898-4e7d-bcf4-452a41b19b00",
   "metadata": {},
   "outputs": [],
   "source": [
    "def predict_emotion(text, vectorizer, model, label_encoder):\n",
    "    text_vectorized = vectorizer.transform([text])\n",
    "    prediction = model.predict(text_vectorized)\n",
    "    emotion_label = label_encoder.inverse_transform(prediction)\n",
    "    return emotion_label"
   ]
  },
  {
   "cell_type": "code",
   "execution_count": 72,
   "id": "af42def6-681d-432d-a413-74bf5684ab69",
   "metadata": {},
   "outputs": [
    {
     "name": "stdout",
     "output_type": "stream",
     "text": [
      "Predicted Emotion: ['neutral']\n"
     ]
    }
   ],
   "source": [
    "sample_text = \"I was sad seeing her cry. She cried, I cried.\"\n",
    "predicted_emotion = predict_emotion(sample_text, vectorizer, model, le)\n",
    "print(f\"Predicted Emotion: {predicted_emotion}\")"
   ]
  },
  {
   "cell_type": "code",
   "execution_count": 73,
   "id": "9f4e8cfa-3807-42d5-8013-4473a6c86621",
   "metadata": {},
   "outputs": [],
   "source": [
    "def predict_sentiment(text, vectorizer, model):\n",
    "    text_vectorized = vectorizer.transform([text])\n",
    "    prediction = model.predict(text_vectorized)\n",
    "    return 'positive' if prediction == 1 else 'negative'"
   ]
  },
  {
   "cell_type": "code",
   "execution_count": 74,
   "id": "228b0b5e-b2ca-4a1a-84d8-01b31d8a8778",
   "metadata": {},
   "outputs": [
    {
     "name": "stdout",
     "output_type": "stream",
     "text": [
      "Predicted Sentiment: negative\n"
     ]
    }
   ],
   "source": [
    "new_text = \"I'm feeling really down today.\"\n",
    "predicted_sentiment = predict_sentiment(new_text, vectorizer, model)\n",
    "print(f\"Predicted Sentiment: {predicted_sentiment}\")"
   ]
  },
  {
   "cell_type": "code",
   "execution_count": null,
   "id": "b3c5ab7b-7576-4629-8177-1daed8267634",
   "metadata": {},
   "outputs": [],
   "source": []
  },
  {
   "cell_type": "code",
   "execution_count": 83,
   "id": "03d15157-5245-49c1-9344-3c2187e1f2f1",
   "metadata": {},
   "outputs": [],
   "source": [
    "from sklearn.metrics import confusion_matrix, roc_auc_score, roc_curve\n",
    "import matplotlib.pyplot as plt"
   ]
  },
  {
   "cell_type": "code",
   "execution_count": 84,
   "id": "278e42db-c65c-47b2-9c13-7816e0bfa188",
   "metadata": {},
   "outputs": [
    {
     "name": "stdout",
     "output_type": "stream",
     "text": [
      "[[515   0   1]\n",
      " [ 93   4   0]\n",
      " [ 58   5  27]]\n"
     ]
    }
   ],
   "source": [
    "y_pred_sentiment = model.predict(X_test)\n",
    "cm = confusion_matrix(y_test, y_pred_sentiment)\n",
    "print(cm)"
   ]
  },
  {
   "cell_type": "code",
   "execution_count": 88,
   "id": "b2d3ea5d-c138-43f9-8b0c-a771ea8b623e",
   "metadata": {},
   "outputs": [
    {
     "name": "stdout",
     "output_type": "stream",
     "text": [
      "ROC AUC Score (OVR): 0.9335716343262992\n"
     ]
    },
    {
     "data": {
      "image/png": "[encoded data removed]",
      "text/plain": [
       "<Figure size 640x480 with 1 Axes>"
      ]
     },
     "metadata": {},
     "output_type": "display_data"
    }
   ],
   "source": [
    "# Predict probabilities for X_test\n",
    "y_pred_proba = model.predict_proba(X_test)\n",
    "\n",
    "# Compute ROC AUC score for multiclass\n",
    "roc_auc = roc_auc_score(y_test, y_pred_proba, multi_class='ovr', average='macro')\n",
    "print(f\"ROC AUC Score (OVR): {roc_auc}\")\n",
    "\n",
    "# Plot ROC curve for each class\n",
    "fpr = {}\n",
    "tpr = {}\n",
    "thresholds = {}\n",
    "n_classes = y_pred_proba.shape[1]  # Number of classes\n",
    "\n",
    "# Convert y_test to one-vs-rest format (one-hot encoded)\n",
    "from sklearn.preprocessing import label_binarize\n",
    "y_test_binarized = label_binarize(y_test, classes=np.arange(n_classes))\n",
    "\n",
    "for i in range(n_classes):\n",
    "    fpr[i], tpr[i], thresholds[i] = roc_curve(y_test_binarized[:, i], y_pred_proba[:, i])\n",
    "\n",
    "# Plot ROC curve for each class\n",
    "plt.figure()\n",
    "for i in range(n_classes):\n",
    "    plt.plot(fpr[i], tpr[i], label=f\"Class {i} (area = {roc_auc:.2f})\")\n",
    "\n",
    "plt.plot([0, 1], [0, 1], 'k--', label='Random chance')\n",
    "plt.xlabel('False Positive Rate')\n",
    "plt.ylabel('True Positive Rate')\n",
    "plt.title('ROC Curve for Multiclass Classification')\n",
    "plt.legend(loc=\"lower right\")\n",
    "plt.show()\n"
   ]
  },
  {
   "cell_type": "code",
   "execution_count": 101,
   "id": "df3fc889-6a28-4fa3-a6d9-3a25fc0ddef4",
   "metadata": {},
   "outputs": [
    {
     "data": {
      "text/plain": [
       "['label_encoder.pkl']"
      ]
     },
     "execution_count": 101,
     "metadata": {},
     "output_type": "execute_result"
    }
   ],
   "source": [
    "joblib.dump(le, 'label_encoder.pkl')"
   ]
  },
  {
   "cell_type": "code",
   "execution_count": 106,
   "id": "37d2d0f7-a9ee-4af9-9bd0-d51f3905d4fa",
   "metadata": {},
   "outputs": [],
   "source": [
    "from collections.abc import Sequence\n",
    "from flask import Flask, request, jsonify, render_template\n",
    "import joblib\n",
    "import numpy as np"
   ]
  },
  {
   "cell_type": "code",
   "execution_count": 107,
   "id": "c8ec44d7-cc53-4ddc-a191-909bae52d88e",
   "metadata": {},
   "outputs": [
    {
     "name": "stdout",
     "output_type": "stream",
     "text": [
      " * Serving Flask app '__main__'\n",
      " * Debug mode: on\n"
     ]
    },
    {
     "name": "stderr",
     "output_type": "stream",
     "text": [
      "WARNING: This is a development server. Do not use it in a production deployment. Use a production WSGI server instead.\n",
      " * Running on http://127.0.0.1:5001\n",
      "Press CTRL+C to quit\n",
      " * Restarting with watchdog (fsevents)\n",
      "Traceback (most recent call last):\n",
      "  File \"/opt/anaconda3/lib/python3.11/site-packages/ipykernel_launcher.py\", line 15, in <module>\n",
      "    from ipykernel import kernelapp as app\n",
      "  File \"/opt/anaconda3/lib/python3.11/site-packages/ipykernel/__init__.py\", line 7, in <module>\n",
      "    from .connect import *\n",
      "  File \"/opt/anaconda3/lib/python3.11/site-packages/ipykernel/connect.py\", line 12, in <module>\n",
      "    import jupyter_client\n",
      "  File \"/opt/anaconda3/lib/python3.11/site-packages/jupyter_client/__init__.py\", line 3, in <module>\n",
      "    from .asynchronous import AsyncKernelClient\n",
      "  File \"/opt/anaconda3/lib/python3.11/site-packages/jupyter_client/asynchronous/__init__.py\", line 1, in <module>\n",
      "    from .client import AsyncKernelClient  # noqa\n",
      "    ^^^^^^^^^^^^^^^^^^^^^^^^^^^^^^^^^^^^^\n",
      "  File \"/opt/anaconda3/lib/python3.11/site-packages/jupyter_client/asynchronous/client.py\", line 11, in <module>\n",
      "    from ..channels import AsyncZMQSocketChannel, HBChannel\n",
      "  File \"/opt/anaconda3/lib/python3.11/site-packages/jupyter_client/channels.py\", line 12, in <module>\n",
      "    from jupyter_core.utils import ensure_async\n",
      "  File \"/opt/anaconda3/lib/python3.11/site-packages/jupyter_core/utils/__init__.py\", line 13, in <module>\n",
      "    from pathlib import Path\n",
      "  File \"/opt/anaconda3/lib/python3.11/site-packages/pathlib.py\", line 10, in <module>\n",
      "    from collections import Sequence\n",
      "ImportError: cannot import name 'Sequence' from 'collections' (/opt/anaconda3/lib/python3.11/collections/__init__.py)\n"
     ]
    },
    {
     "ename": "SystemExit",
     "evalue": "1",
     "output_type": "error",
     "traceback": [
      "An exception has occurred, use %tb to see the full traceback.\n",
      "\u001b[0;31mSystemExit\u001b[0m\u001b[0;31m:\u001b[0m 1\n"
     ]
    }
   ],
   "source": [
    "sentiment_model = joblib.load('sentiment_model.pkl')\n",
    "emotion_model = joblib.load('emotion_detection_model.pkl')\n",
    "vectorizer = joblib.load('tfdif_vectorizer.pkl')\n",
    "label_encoder = joblib.load('label_encoder.pkl')\n",
    "\n",
    "# Create the Flask app\n",
    "app = Flask(__name__)\n",
    "\n",
    "# Route for the chatbot UI (if you want a simple HTML page)\n",
    "@app.route('/')\n",
    "def home():\n",
    "    return render_template('index.html')  # Assuming you have a basic index.html file\n",
    "\n",
    "# Route to handle chatbot input and provide a response\n",
    "@app.route('/chat', methods=['POST'])\n",
    "def chat():\n",
    "    user_input = request.form['user_input']  # Get the user input from the form\n",
    "    \n",
    "    # Preprocess the input text\n",
    "    user_input_processed = preprocess_text(user_input)  # Use the preprocess_text function\n",
    "    \n",
    "    # Vectorize the input for model prediction\n",
    "    user_input_vectorized = vectorizer.transform([user_input_processed])\n",
    "    \n",
    "    # Predict the sentiment\n",
    "    sentiment_prediction = sentiment_model.predict(user_input_vectorized)\n",
    "    sentiment_label = 'positive' if sentiment_prediction == 1 else 'negative'\n",
    "    \n",
    "    # Predict the emotion (optional)\n",
    "    emotion_prediction = emotion_model.predict(user_input_vectorized)\n",
    "    emotion_label = label_encoder.inverse_transform(emotion_prediction)[0]\n",
    "    \n",
    "    # Generate the chatbot response (you can customize this logic)\n",
    "    response = f\"Based on your input, I detected a {sentiment_label} sentiment and a {emotion_label} emotion.\"\n",
    "    \n",
    "    # Return the response as JSON or render it on the page\n",
    "    return jsonify({'response': response})\n",
    "\n",
    "# Function to preprocess user input (reuse your existing preprocess_text function)\n",
    "def preprocess_text(text):\n",
    "    # Preprocessing logic here\n",
    "    pass\n",
    "\n",
    "# Run the app\n",
    "if __name__ == '__main__':\n",
    "    app.run(port=5001, debug=True)"
   ]
  },
  {
   "cell_type": "code",
   "execution_count": null,
   "id": "3ef99723-abf3-4921-8f4f-b1122e766e88",
   "metadata": {},
   "outputs": [],
   "source": [
    "## Testing if flask runs\n",
    "# from flask import Flask\n",
    "# import threading\n",
    "\n",
    "# # Create Flask app\n",
    "# app = Flask(__name__)\n",
    "\n",
    "# @app.route('/')\n",
    "# def home():\n",
    "#     return \"Hello, Flask is running in Jupyter Notebook!\"\n",
    "\n",
    "# # Function to run the Flask app\n",
    "# def run_flask_app():\n",
    "#     app.run(port=5000, debug=True, use_reloader=False)  # use_reloader=False to prevent issues\n",
    "\n",
    "# # Run Flask app in a separate thread to avoid blocking the notebook\n",
    "# flask_thread = threading.Thread(target=run_flask_app)\n",
    "# flask_thread.start()"
   ]
  },
  {
   "cell_type": "code",
   "execution_count": null,
   "id": "7d2e498b-aa84-4259-9c62-12d53dafd1bd",
   "metadata": {},
   "outputs": [],
   "source": []
  },
  {
   "cell_type": "code",
   "execution_count": null,
   "id": "1f248e4b-5971-43c1-b728-1f56e2399b43",
   "metadata": {},
   "outputs": [],
   "source": []
  },
  {
   "cell_type": "code",
   "execution_count": null,
   "id": "65ffa7d7-00ec-48cd-8243-be9cf22b1e69",
   "metadata": {},
   "outputs": [],
   "source": []
  },
  {
   "cell_type": "code",
   "execution_count": null,
   "id": "6a2ecc10-c884-4166-9ef0-898594396031",
   "metadata": {},
   "outputs": [],
   "source": []
  },
  {
   "cell_type": "code",
   "execution_count": 16,
   "id": "0f7fc719-5f24-42b8-9df4-17e035047305",
   "metadata": {},
   "outputs": [],
   "source": [
    "# # def get_emotion_label(text):\n",
    "# #     emotions = te.get_emotion(text)\n",
    "# #     return max(emotions, key=emotions.get)\n",
    "\n",
    "# # # def get_emojis(text):\n",
    "# # #     # return \" \".join(c for c in text if emoji.is_emoji(c))\n",
    "# # #     try:\n",
    "# # #         emoji_list = emoji.emoji_list(text)\n",
    "# # #         return ' '.join([item['emoji'] for item in emoji_list])\n",
    "# # #     except:\n",
    "# # #         return ''\n",
    "\n",
    "\n",
    "\n",
    "# # # def get_emojis(text):\n",
    "# # #     return ' '.join([item['emoji'] for item in emoji.emoji_list(text)])\n",
    "    \n",
    "\n",
    "# # def custom_cleaning(text):\n",
    "# #     # if pd.isnull(text):\n",
    "# #     #     return ''\n",
    "# #     if not isinstance(text, str):\n",
    "# #         return str(text)\n",
    "        \n",
    "# #     text = text.lower()\n",
    "# #     # text = get_emojis(text)\n",
    "# #     text = re.sub(r'http\\S+|www.\\S+', '', text)\n",
    "# #     text = re.sub(r'[^a-z\\s]', '', text)\n",
    "# #     return text\n",
    "\n",
    "# def get_emotion_label(text):\n",
    "#     emotions = te.get_emotion(text)\n",
    "#     return max(emotions, key=emotions.get)\n",
    "    \n",
    "\n",
    "# def custom_cleaning(text):\n",
    "#     if not isinstance(text, str):\n",
    "#         return str(text)\n",
    "#     text = text.lower()\n",
    "#     text = re.sub(r'http\\S+|www.\\S+', '', text)\n",
    "#     text = re.sub(r'[^a-z\\s]', '', text)\n",
    "#     return text"
   ]
  },
  {
   "cell_type": "code",
   "execution_count": null,
   "id": "806ae85c-f2ef-4b2d-9890-5d9fd92b03d6",
   "metadata": {},
   "outputs": [],
   "source": [
    "# df_copy = df.copy()\n",
    "\n",
    "# df_copy['cleaned_context'] = df_copy['Context'].apply(custom_cleaning)\n",
    "# df_copy['cleaned_response'] = df_copy['Response'].apply(custom_cleaning)\n",
    "\n",
    "# df['context_emotion'] = df['cleaned_context'].apply(get_emotion_label)\n",
    "# df['response_emotion'] = df['cleaned_response'].apply(get_emotion_label)\n",
    "\n",
    "# df_copy.head()"
   ]
  },
  {
   "cell_type": "code",
   "execution_count": 61,
   "id": "3bad32a1-012f-4c25-aa8d-eed5a2fec9df",
   "metadata": {},
   "outputs": [
    {
     "name": "stdout",
     "output_type": "stream",
     "text": [
      "<class 'pandas.core.frame.DataFrame'>\n",
      "RangeIndex: 3512 entries, 0 to 3511\n",
      "Data columns (total 2 columns):\n",
      " #   Column    Non-Null Count  Dtype \n",
      "---  ------    --------------  ----- \n",
      " 0   Context   3512 non-null   object\n",
      " 1   Response  3508 non-null   object\n",
      "dtypes: object(2)\n",
      "memory usage: 55.0+ KB\n",
      "None\n"
     ]
    }
   ],
   "source": [
    "print(df[['Context', 'Response']].info())"
   ]
  },
  {
   "cell_type": "code",
   "execution_count": null,
   "id": "9c92ac75-9d38-4845-bc2e-be3f07596451",
   "metadata": {},
   "outputs": [],
   "source": []
  }
 ],
 "metadata": {
  "kernelspec": {
   "display_name": "Python 3 (ipykernel)",
   "language": "python",
   "name": "python3"
  },
  "language_info": {
   "codemirror_mode": {
    "name": "ipython",
    "version": 3
   },
   "file_extension": ".py",
   "mimetype": "text/x-python",
   "name": "python",
   "nbconvert_exporter": "python",
   "pygments_lexer": "ipython3",
   "version": "3.11.8"
  }
 },
 "nbformat": 4,
 "nbformat_minor": 5
}
